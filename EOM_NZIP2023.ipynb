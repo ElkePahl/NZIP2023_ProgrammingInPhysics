{
 "cells": [
  {
   "cell_type": "markdown",
   "metadata": {
    "id": "yC3wE68J0TfU"
   },
   "source": [
    "# NZIP and Physikos 2023\n",
    "## Programming in Secondary Physics\n",
    "\n",
    "June 2023\n",
    "\n",
    "Elke Pahl, Department of Physics,  University of Auckland\n",
    "\n",
    "This notebook discusses the motion of an object with constant acceleration in one dimension, introducing the following programming tools:\n",
    "\n",
    "- Jupyter Notebooks\n",
    "- Python Libraries\n",
    "- Arrays of numbers\n",
    "- Plots (for example of 1D Motion)\n",
    "- Interactive Plots\n",
    "\n",
    "There is an extra section for projectile motion (from Teacher Day 2022).\n",
    "\n",
    "\n"
   ]
  },
  {
   "cell_type": "markdown",
   "metadata": {
    "id": "ESkpLuRX673d"
   },
   "source": [
    "### Jupyter Noteboooks"
   ]
  },
  {
   "cell_type": "markdown",
   "metadata": {
    "id": "G-k0QZhq7A74"
   },
   "source": [
    "A Jupyter notebook is a useful tool that allows you to add text and notes inline with your Python code and ```matplotlib``` graphics. Further details are found at Jupyter's [homesite](https://jupyter.org/). More advanced *markdown* options are available [here](https://github.com/adam-p/markdown-here/wiki/Markdown-Cheatsheet).\n",
    "\n",
    "A notebook is made up of **cells**. These can contain either text (Markdown), code, or results from running code. In order to evaluate code or convert Markdown code into pretty text, press <kbd>Shift</kbd>+<kbd>Enter</kbd> to move on to the next cell or <kbd>Ctrl</kbd>+<kbd>Enter</kbd> to stay in the same cell.\n",
    "\n",
    "In order to generate a new cell above or below the current cell, press  <kbd>Esc</kbd> (to stop editing the current cell) and then  <kbd>a</kbd> or  <kbd>b</kbd>. If you want to have a markdown cell to enter text, press  <kbd>m</kbd>. Then press  return  to enter code or text in the newly generated cell. In order to delete a cell, click on it (or <kbd>Esc</kbd> if you are editing the cell you want to delete), then press  <kbd>d</kbd> twice.\n",
    "\n",
    "**Try it yourself:**\n",
    "* Make a new text cell below this cell and enter some text\n",
    "* Make a code cell copying in the following code and execute the code\n",
    "\n",
    "```\n",
    "print('This is a code cell')\n",
    "2+2\n",
    "```"
   ]
  },
  {
   "cell_type": "markdown",
   "metadata": {
    "id": "D5dVN9Wa9PrE"
   },
   "source": [
    "### Python Libraries"
   ]
  },
  {
   "cell_type": "markdown",
   "metadata": {
    "id": "pH0twcRD9Wf8"
   },
   "source": [
    "The Python language contains the most important general purpose types and functions, like e.g. the ```print``` function which we already used above (Documentation: https://docs.python.org/3/library/).\n",
    "There are also a lot of specialised libraries (called modules) available which have to be included before you can make use of the functions defined within that library. NumPy (http://www.numpy.org/) is a specialised library for numerical calculations which we will use a lot. Another frequently used library is the matplotlib (https://matplotlib.org/) library for plotting.\n",
    "\n",
    "We can include the libraries and use them in the following way (make sure to always re-import the libraries if you restart your notebook):"
   ]
  },
  {
   "cell_type": "code",
   "execution_count": null,
   "metadata": {
    "colab": {
     "base_uri": "https://localhost:8080/"
    },
    "id": "-bmOXEFi0Rrz",
    "outputId": "6736dbb1-4451-45b3-c02c-d6de4c7206d3"
   },
   "outputs": [],
   "source": [
    "#Standard libraries\n",
    "import numpy as np                          #numerical library - use functions from that library by adding the prefix np.\n",
    "import matplotlib.pyplot as plt             #plotting library - use functions from that library by adding the prefix plt.\n",
    "import matplotlib.animation as animation\n",
    "\n",
    "#the next line is needed for displaying plots in the notebook\n",
    "%matplotlib inline\n",
    "\n",
    "print(np.sqrt(4))   # example of the square-root function, defined in NumPy\n",
    "print(np.log(np.e)) # example of the ln function"
   ]
  },
  {
   "cell_type": "markdown",
   "metadata": {
    "id": "QWpAUzM-Ohzi"
   },
   "source": [
    "**Try it yourself:**\n",
    "- Compute $\\sqrt{e}$\n",
    "- Compute $|-5.5|$ (```np.abs``` is a numpy function to compute the absolute value of a number)."
   ]
  },
  {
   "cell_type": "markdown",
   "metadata": {
    "id": "K2oFSNQiHK0H"
   },
   "source": [
    "### Arrays"
   ]
  },
  {
   "cell_type": "markdown",
   "metadata": {
    "id": "H2Pvb16__XV6"
   },
   "source": [
    "A NumPy array is a grid of values, all of the same data type (eg. integer or real number). We will later use them to store positions and velocities at given times.\n",
    "\n",
    "Examples of how to generate one-dimensional arrays are:\n"
   ]
  },
  {
   "cell_type": "code",
   "execution_count": null,
   "metadata": {
    "id": "4cp8kzwrAzt1"
   },
   "outputs": [],
   "source": [
    "# using numpy function np.arange(initial_value,final_value,delta)\n",
    "my_array = np.arange(0.,1.,0.1)\n",
    "print(\"My array is: \", my_array)\n",
    "\n",
    "#one can find the length of an array with the function length(my_array)\n",
    "print(\"The length of my array is: \", len(my_array))\n",
    "\n",
    "# using numpy function np.zeros(my_length) to generate an array of zeros of given length\n",
    "another_array = np.zeros(10)\n",
    "print(another_array)\n",
    "\n"
   ]
  },
  {
   "cell_type": "markdown",
   "metadata": {
    "id": "sY2KvaZDF71z"
   },
   "source": [
    "**Try it yourself:**\n",
    "\n",
    "- Complete the code cell below to generate a ```time``` array from $t=0$ to $t=30$ in time steps of $\\Delta t=0.1$.\n",
    "- Determine the length ```n_time``` of the time array giving you the number of times steps.\n",
    "- Print the time array and its length.\n",
    "- Initialize a ```position``` array of the same length as the time array with every entry bein zero."
   ]
  },
  {
   "cell_type": "code",
   "execution_count": null,
   "metadata": {
    "id": "XpUH1obZ_U1J"
   },
   "outputs": [],
   "source": [
    "initial_time = 0.         # initial time\n",
    "final_time = 30.0         # final time\n",
    "dt = 0.1                  # time step\n",
    "\n",
    "time =\n",
    "n_time =\n",
    "\n",
    "position =\n"
   ]
  },
  {
   "cell_type": "markdown",
   "metadata": {
    "id": "2FHKrsmwCYNL"
   },
   "source": [
    "You can access individual elements of an array in the following way (being aware of the fact that Python starts arrays at index 0):"
   ]
  },
  {
   "cell_type": "code",
   "execution_count": null,
   "metadata": {
    "id": "aHXQ0fH2CeIj"
   },
   "outputs": [],
   "source": [
    "print(time[0], time[n_time-1])\n",
    "\n",
    "print(position[0])\n",
    "position[0] = 1.5     #re-assign another value to zero-th position\n",
    "print(position[0])"
   ]
  },
  {
   "cell_type": "code",
   "execution_count": null,
   "metadata": {
    "id": "JVFAWs3YC4K4"
   },
   "outputs": [],
   "source": [
    "#using the while loop\n",
    "i = 0\n",
    "while (i < n_time):   # while the index is smaller than the length of the array, do ...\n",
    "  print(time[i])      # print the i-th element of the time array\n",
    "  i = i+1             #increase index i by 1"
   ]
  },
  {
   "cell_type": "markdown",
   "metadata": {
    "id": "fGdfPXRu9lY3"
   },
   "source": [
    "### Equations of Motion in 1D"
   ]
  },
  {
   "cell_type": "markdown",
   "metadata": {
    "id": "79CR5vATCA7I"
   },
   "source": [
    "Let's go back to the example of an object moving in $x$-direction with constant acceleration. The program does exactly the same as the glowscript program - we just store all the $x(t)$ and $y(t)$ data and do plotting after the ```while``` loop has finished."
   ]
  },
  {
   "cell_type": "code",
   "execution_count": null,
   "metadata": {
    "id": "nEaJOZJq33vi"
   },
   "outputs": [],
   "source": [
    "#Equation of Motion in 1D\n",
    "\n",
    "#-------------------------------------------------------------------------------\n",
    "#INPUT\n",
    "\n",
    "initial_time = 0.0        # initial time\n",
    "final_time = 30.0         # final time\n",
    "dt = 0.1                  # time step\n",
    "\n",
    "initial_position = 0.0    # initial position\n",
    "initial_speed = 2.0       # initial speed\n",
    "\n",
    "acceleration = -0.25      # acceleration\n",
    "\n",
    "#-------------------------------------------------------------------------------\n",
    "\n",
    "#Initialization\n",
    "time = np.arange(initial_time, final_time, dt)\n",
    "n_time = len(time)\n",
    "\n",
    "position = np.zeros(n_time)\n",
    "position[0] = initial_position\n",
    "speed = np.zeros(n_time)\n",
    "speed[0] = initial_speed\n",
    "\n",
    "#-------------------------------------------------------------------------------\n",
    "\n",
    "#Propagation\n",
    "i = 1\n",
    "while (i < n_time) :\n",
    "  position[i] = position[i-1] + speed[i-1] * dt\n",
    "  speed[i] = speed[i-1] + acceleration * dt\n",
    "  i = i + 1\n",
    "\n",
    "#-------------------------------------------------------------------------------\n",
    "\n",
    "#Plots\n",
    "plt.plot(time, position)\n",
    "plt.xlabel(\"time [s]\")\n",
    "plt.ylabel(\"position [m]\")\n",
    "plt.grid()\n",
    "plt.show()\n",
    "\n",
    "plt.plot(position, time)\n",
    "plt.ylabel(\"time [s]\")\n",
    "plt.xlabel(\"position [m]\")\n",
    "plt.grid()\n",
    "plt.show()\n"
   ]
  },
  {
   "cell_type": "markdown",
   "metadata": {
    "id": "-1M233DPQcnL"
   },
   "source": [
    "**Try it yourself:**\n",
    "- Check the changes in the object's trajectory varying the initial speed of the moving object or its acceleration."
   ]
  },
  {
   "cell_type": "markdown",
   "metadata": {
    "id": "HD9ToY5-7sJn"
   },
   "source": [
    "## Interactive Plot\n"
   ]
  },
  {
   "cell_type": "markdown",
   "metadata": {
    "id": "F2H2ZwkLQ64n"
   },
   "source": [
    "Interactive plots allow us to change parameters in our equations and immediately see the results in the corresponding plots.\n",
    "\n",
    "We need to import some extra libraries first."
   ]
  },
  {
   "cell_type": "code",
   "execution_count": null,
   "metadata": {
    "id": "VeIO0TwkjvUe"
   },
   "outputs": [],
   "source": [
    "from ipywidgets import interact, interactive  # library enabling the use of widgets, eg. sliders\n",
    "import ipywidgets as widgets"
   ]
  },
  {
   "cell_type": "code",
   "execution_count": null,
   "metadata": {
    "id": "3HeVMPMF9Ngi"
   },
   "outputs": [],
   "source": [
    "def func1(x):           # this defines a function f(x) = 2x + 4\n",
    "  return 2*x+4\n",
    "\n",
    "print(func1(10))"
   ]
  },
  {
   "cell_type": "code",
   "execution_count": null,
   "metadata": {
    "id": "vpKA_5Vr9082"
   },
   "outputs": [],
   "source": [
    "interact(func1,x = (-10,30));   # generating a slider for x in specified range"
   ]
  },
  {
   "cell_type": "markdown",
   "metadata": {
    "id": "BfIOB1SZzRd5"
   },
   "source": [
    "Using the slider above to change value of x, we can see that the result is changing accordingly.\n",
    "\n",
    "Next, we will use sliders for interactive plots of 1D motion."
   ]
  },
  {
   "cell_type": "code",
   "execution_count": null,
   "metadata": {
    "id": "UVsWbhhj-QYn"
   },
   "outputs": [],
   "source": [
    "#exact solution\n",
    "def motion_x(t, initial_position, initial_speed, acceleration):  # distance over time\n",
    "  return initial_position + initial_speed * t + 0.5 * acceleration * t*t\n",
    "\n",
    "#interactive plot\n",
    "def func_motion_plot(initial_speed, acceleration):  #allows for interactive distance-time plot\n",
    "  time = np.arange(initial_time, final_time, dt)\n",
    "  #linspace(ti, 2*tf, num = 1000)\n",
    "\n",
    "  plt.figure(2)\n",
    "  plt.ylim(-0.1,30)\n",
    "  plt.xlim(-50,30)\n",
    "  plt.axvline(color='black')\n",
    "  plt.axhline(color='black')\n",
    "  plt.plot(motion_x(time, initial_position, initial_speed, acceleration),time, color='blue')\n",
    "  plt.ylabel('time')\n",
    "  plt.xlabel('position')\n",
    "  plt.title('time-position graph, 1D motion')\n",
    "  plt.grid()\n",
    "  plt.show()\n",
    "\n",
    "interactive_plot = interactive(func_motion_plot, initial_speed = (1, 3), acceleration = (-2.0, 0.25))\n",
    "output = interactive_plot.children[-1]\n",
    "interactive_plot"
   ]
  },
  {
   "cell_type": "markdown",
   "metadata": {
    "id": "A8QSfK5KIAzM"
   },
   "source": [
    "## Equations of Motion in 2D, Projectile Motion\n"
   ]
  },
  {
   "cell_type": "markdown",
   "metadata": {
    "id": "xkL97KRH9_wC"
   },
   "source": [
    "### Numerical Solution\n",
    "\n"
   ]
  },
  {
   "cell_type": "markdown",
   "metadata": {
    "id": "YnYptMglHnet"
   },
   "source": [
    "Implementing the following iterative equations for position ($x,y$) and velocity ($v_x, v_y$) (linear approximation, Euler method):\n",
    "\n",
    "$$\n",
    "\\begin{eqnarray}\n",
    "\\\\\n",
    "x_i &=& x_{i-1} + v_{x,i-1} \\, \\Delta t\\\\\n",
    "y_i &=& y_{i-1} + v_{y,i-1} \\, \\Delta t\\\\\n",
    "v_{x,i} &=& v_{x,i-1} \\\\\n",
    "v_{y,i} &=& v_{y,i-1} - g \\Delta t\n",
    "\\end{eqnarray}\n",
    "$$"
   ]
  },
  {
   "cell_type": "code",
   "execution_count": null,
   "metadata": {
    "id": "7iM9bA697t_W"
   },
   "outputs": [],
   "source": [
    "#Numerical Solution\n",
    "\n",
    "#-------------------------------------------------------------------------------\n",
    "#INPUT\n",
    "\n",
    "angle_deg = 30.       # angle with respect to horizontal axis in degree\n",
    "angle_rad = angle_deg * np.pi/180.   # convert to radians\n",
    "\n",
    "vi = 10.              # initial speed\n",
    "\n",
    "xi = 0.               # initial x/y position\n",
    "yi = 0.\n",
    "\n",
    "ti = 0.               # initial/final time\n",
    "tf = 2.\n",
    "dt = 1e-1             # time step\n",
    "\n",
    "g = 9.8               # gravitational acceleraton on Earth in m/s^2\n",
    "\n",
    "#-------------------------------------------------------------------------------\n",
    "\n",
    "#set up the time array\n",
    "\n",
    "time = np.arange(ti, tf, dt)\n",
    "nt = len(time)        #number of time steps\n",
    "\n",
    "print(\"number of time steps: \", nt)\n",
    "\n",
    "#find x and y components of initial velocity\n",
    "\n",
    "vi_x = vi * np.cos(angle_rad)\n",
    "vi_y = vi * np.sin(angle_rad)\n",
    "\n",
    "#-------------------------------------------------------------------------------\n",
    "#NUMERICAL SOLUTION\n",
    "\n",
    "x_num = np.zeros(nt)   #generate arrays for positions and velocities\n",
    "y_num = np.zeros(nt)\n",
    "\n",
    "vx_num = np.zeros(nt)\n",
    "vy_num = np.zeros(nt)\n",
    "\n",
    "x_num[0] = xi           #set initial values at t=0\n",
    "y_num[0] = yi\n",
    "\n",
    "vx_num[0] = vi_x\n",
    "vy_num[0] = vi_y\n",
    "\n",
    "#-------------------------------------------------------------------------------\n",
    "#PROPAGATION\n",
    "\n",
    "for i in range(1,nt):\n",
    "\n",
    "  x_num[i] = x_num[i-1] + vx_num[i-1] * dt\n",
    "  y_num[i] = y_num[i-1] + vy_num[i-1] * dt\n",
    "  vx_num[i] = vx_num[i-1]\n",
    "  vy_num[i] = vy_num[i-1] - g * dt\n",
    "\n",
    "    \n",
    "#-------------------------------------------------------------------------------\n",
    "#PLOTS    \n",
    "plt.plot(x_num, y_num, label = \"numerical\")\n",
    "plt.title(\"Projectile motion, angle = %3.1f degree\" %angle_deg)\n",
    "plt.xlabel(\"distance\")\n",
    "plt.ylabel(\"height\")\n",
    "plt.grid()\n",
    "plt.show()\n"
   ]
  },
  {
   "cell_type": "markdown",
   "metadata": {
    "id": "vBWbJbTCNFBU"
   },
   "source": [
    "Plotting height against time, $y$ over $t$:"
   ]
  },
  {
   "cell_type": "code",
   "execution_count": null,
   "metadata": {
    "id": "fx5p6sts_Cwo"
   },
   "outputs": [],
   "source": [
    "plt.plot(time, y_num)\n",
    "plt.xlabel(\"time\")\n",
    "plt.ylabel(\"height\")\n",
    "plt.title(\"Projectile motion, angle = %3.1f degree\" %angle_deg)\n",
    "plt.grid()\n",
    "plt.show()\n"
   ]
  },
  {
   "cell_type": "markdown",
   "metadata": {
    "id": "4h9p4wHINQd1"
   },
   "source": [
    "### Analytical Solution\n"
   ]
  },
  {
   "cell_type": "markdown",
   "metadata": {
    "id": "Y7ZPssyWHs-y"
   },
   "source": [
    "\n",
    "$$\n",
    "\\begin{eqnarray}\n",
    "x_{\\rm exact}(t) &=& v_{x,{\\rm init}} \\, t+ x_{\\rm init} \\\\\n",
    "y_{\\rm exact}(t) &=& -\\frac{1}{2} \\, g \\, t^2 + v_{y,{\\rm init}} \\, t + y_{\\rm init}\n",
    "\\end{eqnarray}\n",
    "$$"
   ]
  },
  {
   "cell_type": "code",
   "execution_count": null,
   "metadata": {
    "id": "5A4mUXb4A6wh"
   },
   "outputs": [],
   "source": [
    "#ANALYTICAL SOLUTION\n",
    "\n",
    "def proj_motion_x(t, angle_deg, init_speed):  # distance over time\n",
    "\n",
    "  angle_rad = angle_deg * np.pi/180.      # convert angle to radians\n",
    "  vi_x = init_speed * np.cos(angle_rad)   # find initial velocity component in y-direction\n",
    "\n",
    "  return vi_x * t\n",
    "\n",
    "def proj_motion_y(t, angle_deg, init_speed, g = 9.8): #height over time\n",
    "\n",
    "  angle_rad = angle_deg * np.pi/180.      # convert angle to radians\n",
    "  vi_y = init_speed * np.sin(angle_rad)   # find initial velocity component in y-direction\n",
    "\n",
    "  return -g/2. * t * t + vi_y * t\n",
    "\n",
    "\n",
    "plt.plot(time, proj_motion_y(time, angle_deg,  vi), color = \"blue\", label=\"exact\")\n",
    "plt.plot(time, y_num, linestyle=\"dashed\", color = \"red\", label = \"numerical\", marker = \"x\", markersize = 2)\n",
    "plt.xlabel(\"time\")\n",
    "plt.ylabel(\"height\")\n",
    "plt.title(\"Projectile motion, angle = %3.1f degree\" %angle_deg)\n",
    "plt.legend()\n",
    "plt.show()\n",
    "\n"
   ]
  },
  {
   "cell_type": "code",
   "execution_count": null,
   "metadata": {
    "id": "sGZA8v5XIV4d"
   },
   "outputs": [],
   "source": [
    "# deviation of numerical from analytical solution\n",
    "\n",
    "plt.plot(time, y_num - proj_motion_y(time,30.,10.))\n",
    "plt.xlabel(\"time\")\n",
    "plt.ylabel(\"difference\")\n",
    "plt.title(\"Numerical error\")\n",
    "plt.show()"
   ]
  },
  {
   "cell_type": "markdown",
   "metadata": {
    "id": "lh2a6yzmytHA"
   },
   "source": [
    "Note that we have a linear increase of the error in accordance with the use of a linear approximation (Euler method)."
   ]
  },
  {
   "cell_type": "code",
   "execution_count": null,
   "metadata": {
    "id": "PGuxFkJKEqGJ"
   },
   "outputs": [],
   "source": [
    "def func_proj_motion_plot(angle_deg, init_speed):  #allows for interactive plot height against distance\n",
    "  t = np.linspace(ti, 2*tf, num = 1000)\n",
    "\n",
    "  plt.figure(2)\n",
    "  plt.ylim(-10,10)\n",
    "  plt.xlim(-0.1,30)\n",
    "  plt.axvline(color='black')\n",
    "  plt.axhline(color='black')\n",
    "  plt.plot(proj_motion_x(t, angle_deg, init_speed), proj_motion_y(t, angle_deg, init_speed), color='blue')\n",
    "  plt.xlabel('distance')\n",
    "  plt.ylabel('height')\n",
    "  plt.grid()\n",
    "  plt.show()\n",
    "\n",
    "interactive_plot = interactive(func_proj_motion_plot, angle_deg = (0,60), init_speed = (5.0, 15.0))\n",
    "output = interactive_plot.children[-1]\n",
    "interactive_plot"
   ]
  }
 ],
 "metadata": {
  "colab": {
   "provenance": []
  },
  "kernelspec": {
   "display_name": "Python 3",
   "language": "python",
   "name": "python3"
  },
  "language_info": {
   "codemirror_mode": {
    "name": "ipython",
    "version": 3
   },
   "file_extension": ".py",
   "mimetype": "text/x-python",
   "name": "python",
   "nbconvert_exporter": "python",
   "pygments_lexer": "ipython3",
   "version": "3.6.5"
  }
 },
 "nbformat": 4,
 "nbformat_minor": 1
}
